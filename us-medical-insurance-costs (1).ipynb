{
 "cells": [
  {
   "cell_type": "markdown",
   "metadata": {},
   "source": [
    "# U.S. Medical Insurance Costs"
   ]
  },
  {
   "cell_type": "markdown",
   "metadata": {},
   "source": [
    "### Project Goals\n",
    "\n",
    "1. Find out the average age of the patients in the dataset.\n",
    "\n",
    "2. Analyze where a majority of the individuals are from.\n",
    "\n",
    "3. Look at the different costs between smokers vs. non-smokers.\n",
    "\n",
    "4. Figure out what the average age is for someone who has at least one child in this dataset.\n"
   ]
  },
  {
   "cell_type": "markdown",
   "metadata": {},
   "source": [
    "### Import Data"
   ]
  },
  {
   "cell_type": "code",
   "execution_count": 85,
   "metadata": {},
   "outputs": [],
   "source": [
    "#importing our data from insurance.csv and storing it in a list\n",
    "\n",
    "import csv\n",
    "\n",
    "with open(\"insurance.csv\", newline= \"\") as insurance_data:\n",
    "    insurance_reader = csv.DictReader(insurance_data, delimiter= \",\")\n",
    "    insurance_list = []\n",
    "    for row in insurance_reader:\n",
    "        insurance_list.append(row)\n",
    "\n",
    "#creating lists for our columns and storing the information in those lists\n",
    "\n",
    "age_list = []\n",
    "sex_list = []\n",
    "bmi_list = []\n",
    "children_list = []\n",
    "smoker_list = []\n",
    "region_list = []\n",
    "charges_list = []\n",
    "\n",
    "for person in insurance_list:\n",
    "    age_list.append(int(person[\"age\"]))\n",
    "    sex_list.append(person[\"sex\"])\n",
    "    bmi_list.append(person[\"bmi\"])\n",
    "    children_list.append(int(person[\"children\"]))\n",
    "    smoker_list.append(person[\"smoker\"])\n",
    "    region_list.append(person[\"region\"])\n",
    "    charges_list.append(float(person[\"charges\"]))"
   ]
  },
  {
   "cell_type": "markdown",
   "metadata": {},
   "source": [
    "### Analysis"
   ]
  },
  {
   "cell_type": "markdown",
   "metadata": {},
   "source": [
    "#### 1. Find out the average age of the patients in the dataset."
   ]
  },
  {
   "cell_type": "code",
   "execution_count": 29,
   "metadata": {},
   "outputs": [
    {
     "name": "stdout",
     "output_type": "stream",
     "text": [
      "The average age of the patients is this dataset is 39.2 years old\n"
     ]
    }
   ],
   "source": [
    "#importing statistics library in order to calculate the average\n",
    "\n",
    "from statistics import mean\n",
    "\n",
    "age_average = round(mean(age_list),1)\n",
    "\n",
    "# another way to calculate the average manually is shown below\n",
    "#age_average_2 = round((sum(age_list)/len(age_list)),1)\n",
    "\n",
    "print(\"The average age of the patients is this dataset is {} years old\".format(age_average))\n"
   ]
  },
  {
   "cell_type": "markdown",
   "metadata": {},
   "source": [
    "#### 2. Analyze where a majority of the individuals are from."
   ]
  },
  {
   "cell_type": "code",
   "execution_count": 35,
   "metadata": {},
   "outputs": [
    {
     "name": "stdout",
     "output_type": "stream",
     "text": [
      " The most common region is our insurance data is southeast with 364 records\n"
     ]
    }
   ],
   "source": [
    "#using a loop we are going to count the number of times each region appears in each insurance data\n",
    "\n",
    "#creating a list to store the region with more individuals. Creating it with sample data in order to start the for loop\n",
    "most_common_region = [[\"Region Example\", 0]]\n",
    "\n",
    "for region in region_list:\n",
    "    #as we loop into each region in our region list we will continue only if the region has not been already counted\n",
    "    if region != most_common_region[0][0]:\n",
    "        #creating a variable to store the number of times the region appears in the list\n",
    "        region_count = region_list.count(region)\n",
    "        \n",
    "        #creating another loop to compare the region_count variable with the most_common_region count at the moment\n",
    "        if region_count > most_common_region[0][1]:\n",
    "            #since the region_count is greater than the most_common_region count we are going to update the data stored in most_common_region\n",
    "            most_common_region.pop()\n",
    "            most_common_region.append([region, region_count])\n",
    "    else:\n",
    "        pass\n",
    "\n",
    "print(\" The most common region is our insurance data is {} with {} records.\".format(most_common_region[0][0],most_common_region[0][1]))"
   ]
  },
  {
   "cell_type": "code",
   "execution_count": 83,
   "metadata": {},
   "outputs": [
    {
     "name": "stdout",
     "output_type": "stream",
     "text": [
      "Count of people by region: {'southwest': 325, 'southeast': 364, 'northwest': 325, 'northeast': 324}\n",
      "\n",
      "Count of people by their smoking preference: {'yes': 274, 'no': 1064}\n",
      "\n",
      "Count of people by their gender: {'female': 662, 'male': 676}\n"
     ]
    }
   ],
   "source": [
    "#creating a fuction to categorize and count\n",
    "\n",
    "def count_categories(list):\n",
    "    #creating a dictionary to store the categories as keys and the count as values\n",
    "    categories = {}\n",
    "    \n",
    "    # using a for loop to iterate through all elements in a specific list\n",
    "    for category in list:\n",
    "    #as we loop into each element we will continue only if the category has not been already counted\n",
    "        if category not in categories:\n",
    "            #creating a variable to store the number of times the category has been counted\n",
    "            category_count = list.count(category)\n",
    "            categories[category] = category_count\n",
    "    \n",
    "    return categories\n",
    "\n",
    "print(\"Count of people by region: \" + str(count_categories(region_list)))\n",
    "print(\"\\nCount of people by their smoking preference: \" + str(count_categories(smoker_list)))\n",
    "print(\"\\nCount of people by their gender: \" + str(count_categories(sex_list)))"
   ]
  },
  {
   "cell_type": "markdown",
   "metadata": {},
   "source": [
    "#### 3. Look at the different costs between smokers vs. non-smokers."
   ]
  },
  {
   "cell_type": "code",
   "execution_count": 67,
   "metadata": {},
   "outputs": [
    {
     "name": "stdout",
     "output_type": "stream",
     "text": [
      "The average insurance cost of a smoker is 32060.9 dollars.\n",
      "The average insurance cost of a non smoker is way less with 8434.3 dollars\n"
     ]
    }
   ],
   "source": [
    "#creating the variables that will keep a total cost and count of both non smokers and smokers\n",
    "smoker_total_cost = 0\n",
    "smoker_count = 0\n",
    "nonsmoker_total_cost = 0\n",
    "nonsmoker_count = 0\n",
    "\n",
    "# using a for loop to iterate through all the indexes in both the smoker_list and charges_list\n",
    "for i in range(len(smoker_list)-1):\n",
    "    if smoker_list[i] == \"yes\":\n",
    "        smoker_total_cost += charges_list[i]\n",
    "        smoker_count += 1\n",
    "    else:\n",
    "        nonsmoker_total_cost += charges_list[i]\n",
    "        nonsmoker_count += 1\n",
    "\n",
    "# calculate the average cost for each category in smoker_list\n",
    "smoker_average_cost = round((smoker_total_cost/smoker_count),1)\n",
    "nonsmoker_average_cost = round((nonsmoker_total_cost/nonsmoker_count),1)\n",
    "\n",
    "\n",
    "print(\"The average insurance cost of a smoker is {} dollars.\\nThe average insurance cost of a non smoker is way less with {} dollars\".format(smoker_average_cost, nonsmoker_average_cost))\n"
   ]
  },
  {
   "cell_type": "markdown",
   "metadata": {},
   "source": [
    "#### 4. Figure out what the average age is for someone who has at least one child in this dataset."
   ]
  },
  {
   "cell_type": "code",
   "execution_count": 73,
   "metadata": {},
   "outputs": [
    {
     "name": "stdout",
     "output_type": "stream",
     "text": [
      "The average age of someone with atleast 1 children is 38.8 years old\n",
      "The average age of someone with atleast 4 children is 39.2 years old\n"
     ]
    }
   ],
   "source": [
    "#create a fuction to calculate the average age of someone depending on the least number of children they have\n",
    "def calculate_average_age(num_child):\n",
    "    #create a new list to store the ages of the people who have the same number of children or more\n",
    "    age_list_for_num_child = []\n",
    "    #using a for loop to iterate through all the indexes in both the age_list and children_list\n",
    "    for i in range(len(age_list)-1):\n",
    "        #iterating through the age list through control flow depending on the variable num_child being at least the same to the amount of children \n",
    "        if num_child >= children_list[i]:\n",
    "            age_list_for_num_child.append(age_list[i])\n",
    "    \n",
    "    average_age = round(mean(age_list_for_num_child),1)\n",
    "    \n",
    "    return \"The average age of someone with atleast {} children is {} years old\".format(num_child, average_age)\n",
    "\n",
    "#calling the fuction calculate_average_age(num_child) to store the value in a variable\n",
    "\n",
    "at_least_one_child_average_age = calculate_average_age(1)\n",
    "at_least_four_child_average_age = calculate_average_age(4)\n",
    "\n",
    "print(at_least_one_child_average_age)\n",
    "print(at_least_four_child_average_age)"
   ]
  }
 ],
 "metadata": {
  "kernelspec": {
   "display_name": "Python 3 (ipykernel)",
   "language": "python",
   "name": "python3"
  },
  "language_info": {
   "codemirror_mode": {
    "name": "ipython",
    "version": 3
   },
   "file_extension": ".py",
   "mimetype": "text/x-python",
   "name": "python",
   "nbconvert_exporter": "python",
   "pygments_lexer": "ipython3",
   "version": "3.10.9"
  }
 },
 "nbformat": 4,
 "nbformat_minor": 4
}
